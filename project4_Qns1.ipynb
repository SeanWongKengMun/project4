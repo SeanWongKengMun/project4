{
 "cells": [
  {
   "cell_type": "markdown",
   "metadata": {},
   "source": [
    "## QUESTION 1: Factors that impact salary\n",
    "To predict salary you will be building either a classification or regression model, using features like the location, title, and summary of the job. If framing this as a regression problem, you will be estimating the listed salary amounts. You may instead choose to frame this as a classification problem, in which case you will create labels from these salaries (high vs. low salary, for example) according to thresholds (such as median salary).\n",
    "\n",
    "You have learned a variety of new skills and models that may be useful for this problem:\n",
    "\n",
    "-NLP\n",
    "\n",
    "-Unsupervised learning and dimensionality reduction techniques (PCA, clustering)\n",
    "\n",
    "-Ensemble methods and decision tree models\n",
    "\n",
    "-SVM models\n",
    "\n",
    "Whatever you decide to use, the most important thing is to justify your choices and interpret your results. Communication of your process is key. Note that most listings DO NOT come with salary information. You'll need to able to extrapolate or predict the expected salaries for these listings."
   ]
  },
  {
   "cell_type": "code",
   "execution_count": 41,
   "metadata": {},
   "outputs": [],
   "source": [
    "import numpy as np\n",
    "import pandas as pd\n",
    "import scipy.stats as stats\n",
    "import seaborn as sns\n",
    "import matplotlib.pyplot as plt\n",
    "\n",
    "sns.set_style('whitegrid')\n",
    "%config InlineBackend.figure_format = 'retina'\n",
    "%matplotlib inline"
   ]
  },
  {
   "cell_type": "code",
   "execution_count": 42,
   "metadata": {},
   "outputs": [],
   "source": [
    "df = pd.read_csv('./salary_df_car_fut.csv')"
   ]
  },
  {
   "cell_type": "code",
   "execution_count": 43,
   "metadata": {},
   "outputs": [
    {
     "data": {
      "text/html": [
       "<div>\n",
       "<style scoped>\n",
       "    .dataframe tbody tr th:only-of-type {\n",
       "        vertical-align: middle;\n",
       "    }\n",
       "\n",
       "    .dataframe tbody tr th {\n",
       "        vertical-align: top;\n",
       "    }\n",
       "\n",
       "    .dataframe thead th {\n",
       "        text-align: right;\n",
       "    }\n",
       "</style>\n",
       "<table border=\"1\" class=\"dataframe\">\n",
       "  <thead>\n",
       "    <tr style=\"text-align: right;\">\n",
       "      <th></th>\n",
       "      <th>Unnamed: 0</th>\n",
       "      <th>Company</th>\n",
       "      <th>Title</th>\n",
       "      <th>Address</th>\n",
       "      <th>Emp_type</th>\n",
       "      <th>Seniority</th>\n",
       "      <th>Industry</th>\n",
       "      <th>Salary</th>\n",
       "      <th>Responsibility</th>\n",
       "      <th>Requirements</th>\n",
       "    </tr>\n",
       "  </thead>\n",
       "  <tbody>\n",
       "    <tr>\n",
       "      <th>0</th>\n",
       "      <td>0</td>\n",
       "      <td>SKILLSFUTURE SINGAPORE AGENCY</td>\n",
       "      <td>Executive, (Quality Management Division) (6-mo...</td>\n",
       "      <td>ONE MARINA BOULEVARD, 1 MARINA BOULEVARD 018989</td>\n",
       "      <td>Contract</td>\n",
       "      <td>NONE</td>\n",
       "      <td>Public / Civil Service</td>\n",
       "      <td>NONE</td>\n",
       "      <td>Roles &amp; ResponsibilitiesResponsibilities\\r\\n\\r...</td>\n",
       "      <td>NONE</td>\n",
       "    </tr>\n",
       "    <tr>\n",
       "      <th>1</th>\n",
       "      <td>1</td>\n",
       "      <td>HP PPS ASIA PACIFIC PTE. LTD.</td>\n",
       "      <td>Business Analyst</td>\n",
       "      <td>1 DEPOT CLOSE 109841</td>\n",
       "      <td>Permanent, Full Time</td>\n",
       "      <td>Professional</td>\n",
       "      <td>Others</td>\n",
       "      <td>$8,400to$12,900</td>\n",
       "      <td>Roles &amp; ResponsibilitiesHP is the world’s lead...</td>\n",
       "      <td>RequirementsEducation and Experience Required:...</td>\n",
       "    </tr>\n",
       "    <tr>\n",
       "      <th>2</th>\n",
       "      <td>2</td>\n",
       "      <td>SHOPEE SINGAPORE PRIVATE LIMITED</td>\n",
       "      <td>Software Engineer</td>\n",
       "      <td>GALAXIS, 1 FUSIONOPOLIS PLACE 138522</td>\n",
       "      <td>Permanent, Full Time</td>\n",
       "      <td>Executive</td>\n",
       "      <td>Information Technology</td>\n",
       "      <td>$4,400to$8,000</td>\n",
       "      <td>Roles &amp; ResponsibilitiesResponsibilities:   De...</td>\n",
       "      <td>RequirementsRequirements:   Minimum B.S. degre...</td>\n",
       "    </tr>\n",
       "    <tr>\n",
       "      <th>3</th>\n",
       "      <td>3</td>\n",
       "      <td>PRICEWATERHOUSECOOPERS CONSULTING (SINGAPORE) ...</td>\n",
       "      <td>Data Analytics –Manager</td>\n",
       "      <td>MARINA ONE EAST TOWER, 7 STRAITS VIEW 018936</td>\n",
       "      <td>Permanent, Contract, Full Time</td>\n",
       "      <td>Manager</td>\n",
       "      <td>Consulting</td>\n",
       "      <td>$6,200to$9,500</td>\n",
       "      <td>Roles &amp; Responsibilities Advisory - Consulting...</td>\n",
       "      <td>Requirements  A good Degree in a quantitative ...</td>\n",
       "    </tr>\n",
       "    <tr>\n",
       "      <th>4</th>\n",
       "      <td>4</td>\n",
       "      <td>Company Undisclosed</td>\n",
       "      <td>Research Fellow</td>\n",
       "      <td>NONE</td>\n",
       "      <td>Contract, Full Time</td>\n",
       "      <td>Professional, Executive</td>\n",
       "      <td>Others</td>\n",
       "      <td>$4,000to$5,000</td>\n",
       "      <td>Roles &amp; ResponsibilitiesData Scientist / Progr...</td>\n",
       "      <td>Requirements Doctorate degree in a relevant fi...</td>\n",
       "    </tr>\n",
       "  </tbody>\n",
       "</table>\n",
       "</div>"
      ],
      "text/plain": [
       "   Unnamed: 0                                            Company  \\\n",
       "0           0                      SKILLSFUTURE SINGAPORE AGENCY   \n",
       "1           1                      HP PPS ASIA PACIFIC PTE. LTD.   \n",
       "2           2                   SHOPEE SINGAPORE PRIVATE LIMITED   \n",
       "3           3  PRICEWATERHOUSECOOPERS CONSULTING (SINGAPORE) ...   \n",
       "4           4                                Company Undisclosed   \n",
       "\n",
       "                                               Title  \\\n",
       "0  Executive, (Quality Management Division) (6-mo...   \n",
       "1                                   Business Analyst   \n",
       "2                                  Software Engineer   \n",
       "3                            Data Analytics –Manager   \n",
       "4                                    Research Fellow   \n",
       "\n",
       "                                           Address  \\\n",
       "0  ONE MARINA BOULEVARD, 1 MARINA BOULEVARD 018989   \n",
       "1                             1 DEPOT CLOSE 109841   \n",
       "2             GALAXIS, 1 FUSIONOPOLIS PLACE 138522   \n",
       "3     MARINA ONE EAST TOWER, 7 STRAITS VIEW 018936   \n",
       "4                                             NONE   \n",
       "\n",
       "                         Emp_type                Seniority  \\\n",
       "0                        Contract                     NONE   \n",
       "1            Permanent, Full Time             Professional   \n",
       "2            Permanent, Full Time                Executive   \n",
       "3  Permanent, Contract, Full Time                  Manager   \n",
       "4             Contract, Full Time  Professional, Executive   \n",
       "\n",
       "                 Industry           Salary  \\\n",
       "0  Public / Civil Service             NONE   \n",
       "1                  Others  $8,400to$12,900   \n",
       "2  Information Technology   $4,400to$8,000   \n",
       "3             Consulting    $6,200to$9,500   \n",
       "4                  Others   $4,000to$5,000   \n",
       "\n",
       "                                      Responsibility  \\\n",
       "0  Roles & ResponsibilitiesResponsibilities\\r\\n\\r...   \n",
       "1  Roles & ResponsibilitiesHP is the world’s lead...   \n",
       "2  Roles & ResponsibilitiesResponsibilities:   De...   \n",
       "3  Roles & Responsibilities Advisory - Consulting...   \n",
       "4  Roles & ResponsibilitiesData Scientist / Progr...   \n",
       "\n",
       "                                        Requirements  \n",
       "0                                               NONE  \n",
       "1  RequirementsEducation and Experience Required:...  \n",
       "2  RequirementsRequirements:   Minimum B.S. degre...  \n",
       "3  Requirements  A good Degree in a quantitative ...  \n",
       "4  Requirements Doctorate degree in a relevant fi...  "
      ]
     },
     "execution_count": 43,
     "metadata": {},
     "output_type": "execute_result"
    }
   ],
   "source": [
    "df.head()"
   ]
  },
  {
   "cell_type": "code",
   "execution_count": 44,
   "metadata": {},
   "outputs": [
    {
     "data": {
      "text/plain": [
       "(1627, 10)"
      ]
     },
     "execution_count": 44,
     "metadata": {},
     "output_type": "execute_result"
    }
   ],
   "source": [
    "df.shape"
   ]
  },
  {
   "cell_type": "code",
   "execution_count": 45,
   "metadata": {},
   "outputs": [
    {
     "data": {
      "text/plain": [
       "Index([u'Unnamed: 0', u'Company', u'Title', u'Address', u'Emp_type',\n",
       "       u'Seniority', u'Industry', u'Salary', u'Responsibility',\n",
       "       u'Requirements'],\n",
       "      dtype='object')"
      ]
     },
     "execution_count": 45,
     "metadata": {},
     "output_type": "execute_result"
    }
   ],
   "source": [
    "df.columns"
   ]
  },
  {
   "cell_type": "code",
   "execution_count": 46,
   "metadata": {},
   "outputs": [
    {
     "data": {
      "text/html": [
       "<div>\n",
       "<style scoped>\n",
       "    .dataframe tbody tr th:only-of-type {\n",
       "        vertical-align: middle;\n",
       "    }\n",
       "\n",
       "    .dataframe tbody tr th {\n",
       "        vertical-align: top;\n",
       "    }\n",
       "\n",
       "    .dataframe thead th {\n",
       "        text-align: right;\n",
       "    }\n",
       "</style>\n",
       "<table border=\"1\" class=\"dataframe\">\n",
       "  <thead>\n",
       "    <tr style=\"text-align: right;\">\n",
       "      <th></th>\n",
       "      <th>Company</th>\n",
       "      <th>Title</th>\n",
       "      <th>Address</th>\n",
       "      <th>Emp_type</th>\n",
       "      <th>Seniority</th>\n",
       "      <th>Industry</th>\n",
       "      <th>Salary</th>\n",
       "      <th>Responsibility</th>\n",
       "      <th>Requirements</th>\n",
       "    </tr>\n",
       "  </thead>\n",
       "  <tbody>\n",
       "    <tr>\n",
       "      <th>0</th>\n",
       "      <td>SKILLSFUTURE SINGAPORE AGENCY</td>\n",
       "      <td>Executive, (Quality Management Division) (6-mo...</td>\n",
       "      <td>ONE MARINA BOULEVARD, 1 MARINA BOULEVARD 018989</td>\n",
       "      <td>Contract</td>\n",
       "      <td>NaN</td>\n",
       "      <td>Public / Civil Service</td>\n",
       "      <td>NaN</td>\n",
       "      <td>Roles &amp; ResponsibilitiesResponsibilities\\r\\n\\r...</td>\n",
       "      <td>NaN</td>\n",
       "    </tr>\n",
       "    <tr>\n",
       "      <th>1</th>\n",
       "      <td>HP PPS ASIA PACIFIC PTE. LTD.</td>\n",
       "      <td>Business Analyst</td>\n",
       "      <td>1 DEPOT CLOSE 109841</td>\n",
       "      <td>Permanent, Full Time</td>\n",
       "      <td>Professional</td>\n",
       "      <td>Others</td>\n",
       "      <td>$8,400to$12,900</td>\n",
       "      <td>Roles &amp; ResponsibilitiesHP is the world’s lead...</td>\n",
       "      <td>RequirementsEducation and Experience Required:...</td>\n",
       "    </tr>\n",
       "    <tr>\n",
       "      <th>2</th>\n",
       "      <td>SHOPEE SINGAPORE PRIVATE LIMITED</td>\n",
       "      <td>Software Engineer</td>\n",
       "      <td>GALAXIS, 1 FUSIONOPOLIS PLACE 138522</td>\n",
       "      <td>Permanent, Full Time</td>\n",
       "      <td>Executive</td>\n",
       "      <td>Information Technology</td>\n",
       "      <td>$4,400to$8,000</td>\n",
       "      <td>Roles &amp; ResponsibilitiesResponsibilities:   De...</td>\n",
       "      <td>RequirementsRequirements:   Minimum B.S. degre...</td>\n",
       "    </tr>\n",
       "    <tr>\n",
       "      <th>3</th>\n",
       "      <td>PRICEWATERHOUSECOOPERS CONSULTING (SINGAPORE) ...</td>\n",
       "      <td>Data Analytics –Manager</td>\n",
       "      <td>MARINA ONE EAST TOWER, 7 STRAITS VIEW 018936</td>\n",
       "      <td>Permanent, Contract, Full Time</td>\n",
       "      <td>Manager</td>\n",
       "      <td>Consulting</td>\n",
       "      <td>$6,200to$9,500</td>\n",
       "      <td>Roles &amp; Responsibilities Advisory - Consulting...</td>\n",
       "      <td>Requirements  A good Degree in a quantitative ...</td>\n",
       "    </tr>\n",
       "    <tr>\n",
       "      <th>4</th>\n",
       "      <td>Company Undisclosed</td>\n",
       "      <td>Research Fellow</td>\n",
       "      <td>NaN</td>\n",
       "      <td>Contract, Full Time</td>\n",
       "      <td>Professional, Executive</td>\n",
       "      <td>Others</td>\n",
       "      <td>$4,000to$5,000</td>\n",
       "      <td>Roles &amp; ResponsibilitiesData Scientist / Progr...</td>\n",
       "      <td>Requirements Doctorate degree in a relevant fi...</td>\n",
       "    </tr>\n",
       "  </tbody>\n",
       "</table>\n",
       "</div>"
      ],
      "text/plain": [
       "                                             Company  \\\n",
       "0                      SKILLSFUTURE SINGAPORE AGENCY   \n",
       "1                      HP PPS ASIA PACIFIC PTE. LTD.   \n",
       "2                   SHOPEE SINGAPORE PRIVATE LIMITED   \n",
       "3  PRICEWATERHOUSECOOPERS CONSULTING (SINGAPORE) ...   \n",
       "4                                Company Undisclosed   \n",
       "\n",
       "                                               Title  \\\n",
       "0  Executive, (Quality Management Division) (6-mo...   \n",
       "1                                   Business Analyst   \n",
       "2                                  Software Engineer   \n",
       "3                            Data Analytics –Manager   \n",
       "4                                    Research Fellow   \n",
       "\n",
       "                                           Address  \\\n",
       "0  ONE MARINA BOULEVARD, 1 MARINA BOULEVARD 018989   \n",
       "1                             1 DEPOT CLOSE 109841   \n",
       "2             GALAXIS, 1 FUSIONOPOLIS PLACE 138522   \n",
       "3     MARINA ONE EAST TOWER, 7 STRAITS VIEW 018936   \n",
       "4                                              NaN   \n",
       "\n",
       "                         Emp_type                Seniority  \\\n",
       "0                        Contract                      NaN   \n",
       "1            Permanent, Full Time             Professional   \n",
       "2            Permanent, Full Time                Executive   \n",
       "3  Permanent, Contract, Full Time                  Manager   \n",
       "4             Contract, Full Time  Professional, Executive   \n",
       "\n",
       "                 Industry           Salary  \\\n",
       "0  Public / Civil Service              NaN   \n",
       "1                  Others  $8,400to$12,900   \n",
       "2  Information Technology   $4,400to$8,000   \n",
       "3             Consulting    $6,200to$9,500   \n",
       "4                  Others   $4,000to$5,000   \n",
       "\n",
       "                                      Responsibility  \\\n",
       "0  Roles & ResponsibilitiesResponsibilities\\r\\n\\r...   \n",
       "1  Roles & ResponsibilitiesHP is the world’s lead...   \n",
       "2  Roles & ResponsibilitiesResponsibilities:   De...   \n",
       "3  Roles & Responsibilities Advisory - Consulting...   \n",
       "4  Roles & ResponsibilitiesData Scientist / Progr...   \n",
       "\n",
       "                                        Requirements  \n",
       "0                                                NaN  \n",
       "1  RequirementsEducation and Experience Required:...  \n",
       "2  RequirementsRequirements:   Minimum B.S. degre...  \n",
       "3  Requirements  A good Degree in a quantitative ...  \n",
       "4  Requirements Doctorate degree in a relevant fi...  "
      ]
     },
     "execution_count": 46,
     "metadata": {},
     "output_type": "execute_result"
    }
   ],
   "source": [
    "df = df.replace('NONE',np.nan)\n",
    "df = df.drop(['Unnamed: 0'], axis=1 )\n",
    "df.head()"
   ]
  },
  {
   "cell_type": "markdown",
   "metadata": {},
   "source": [
    "## Cleaning and Splitting salary to lower,upper and average\n"
   ]
  },
  {
   "cell_type": "code",
   "execution_count": 47,
   "metadata": {},
   "outputs": [],
   "source": [
    "\n",
    "df = df[~df['Salary'].isnull()]\n",
    "df = df.drop_duplicates()\n"
   ]
  },
  {
   "cell_type": "code",
   "execution_count": 48,
   "metadata": {},
   "outputs": [
    {
     "name": "stdout",
     "output_type": "stream",
     "text": [
      "<class 'pandas.core.frame.DataFrame'>\n",
      "Int64Index: 1246 entries, 1 to 1625\n",
      "Data columns (total 9 columns):\n",
      "Company           1246 non-null object\n",
      "Title             1246 non-null object\n",
      "Address           935 non-null object\n",
      "Emp_type          1246 non-null object\n",
      "Seniority         1236 non-null object\n",
      "Industry          1246 non-null object\n",
      "Salary            1246 non-null object\n",
      "Responsibility    1246 non-null object\n",
      "Requirements      1227 non-null object\n",
      "dtypes: object(9)\n",
      "memory usage: 97.3+ KB\n"
     ]
    }
   ],
   "source": [
    "df.info()"
   ]
  },
  {
   "cell_type": "code",
   "execution_count": 49,
   "metadata": {},
   "outputs": [],
   "source": [
    "df['Salary_lower'] = df['Salary'].map(lambda x: x.replace('$','').replace(',','').split('to')[0]).astype('float')\n",
    "df['Salary_upper'] = df['Salary'].map(lambda x: x.replace('$','').replace(',','').split('to')[1]).astype('float')\n",
    "df['Salary_avg'] = (df['Salary_lower']+df['Salary_upper'])/2"
   ]
  },
  {
   "cell_type": "code",
   "execution_count": 50,
   "metadata": {},
   "outputs": [
    {
     "name": "stdout",
     "output_type": "stream",
     "text": [
      "count      1246.000000\n",
      "mean       9315.684992\n",
      "std       17810.283889\n",
      "min           1.000000\n",
      "25%        5000.000000\n",
      "50%        6500.000000\n",
      "75%        9000.000000\n",
      "max      300000.000000\n",
      "Name: Salary_avg, dtype: float64\n"
     ]
    },
    {
     "data": {
      "text/plain": [
       "<matplotlib.axes._subplots.AxesSubplot at 0x1bbbef60>"
      ]
     },
     "execution_count": 50,
     "metadata": {},
     "output_type": "execute_result"
    },
    {
     "data": {
      "image/png": "[encoded data removed]",
      "text/plain": [
       "<matplotlib.figure.Figure at 0x1b88c3c8>"
      ]
     },
     "metadata": {
      "image/png": {
       "height": 244,
       "width": 370
      }
     },
     "output_type": "display_data"
    }
   ],
   "source": [
    "print(df['Salary_avg'].describe())\n",
    "df['Salary_avg'].hist(bins=100)"
   ]
  },
  {
   "cell_type": "code",
   "execution_count": 51,
   "metadata": {},
   "outputs": [
    {
     "data": {
      "text/html": [
       "<div>\n",
       "<style scoped>\n",
       "    .dataframe tbody tr th:only-of-type {\n",
       "        vertical-align: middle;\n",
       "    }\n",
       "\n",
       "    .dataframe tbody tr th {\n",
       "        vertical-align: top;\n",
       "    }\n",
       "\n",
       "    .dataframe thead th {\n",
       "        text-align: right;\n",
       "    }\n",
       "</style>\n",
       "<table border=\"1\" class=\"dataframe\">\n",
       "  <thead>\n",
       "    <tr style=\"text-align: right;\">\n",
       "      <th></th>\n",
       "      <th>Company</th>\n",
       "      <th>Title</th>\n",
       "      <th>Address</th>\n",
       "      <th>Emp_type</th>\n",
       "      <th>Seniority</th>\n",
       "      <th>Industry</th>\n",
       "      <th>Salary</th>\n",
       "      <th>Responsibility</th>\n",
       "      <th>Requirements</th>\n",
       "      <th>Salary_lower</th>\n",
       "      <th>Salary_upper</th>\n",
       "      <th>Salary_avg</th>\n",
       "    </tr>\n",
       "  </thead>\n",
       "  <tbody>\n",
       "    <tr>\n",
       "      <th>1</th>\n",
       "      <td>HP PPS ASIA PACIFIC PTE. LTD.</td>\n",
       "      <td>Business Analyst</td>\n",
       "      <td>1 DEPOT CLOSE 109841</td>\n",
       "      <td>Permanent, Full Time</td>\n",
       "      <td>Professional</td>\n",
       "      <td>Others</td>\n",
       "      <td>$8,400to$12,900</td>\n",
       "      <td>Roles &amp; ResponsibilitiesHP is the world’s lead...</td>\n",
       "      <td>RequirementsEducation and Experience Required:...</td>\n",
       "      <td>8400.0</td>\n",
       "      <td>12900.0</td>\n",
       "      <td>10650.0</td>\n",
       "    </tr>\n",
       "    <tr>\n",
       "      <th>2</th>\n",
       "      <td>SHOPEE SINGAPORE PRIVATE LIMITED</td>\n",
       "      <td>Software Engineer</td>\n",
       "      <td>GALAXIS, 1 FUSIONOPOLIS PLACE 138522</td>\n",
       "      <td>Permanent, Full Time</td>\n",
       "      <td>Executive</td>\n",
       "      <td>Information Technology</td>\n",
       "      <td>$4,400to$8,000</td>\n",
       "      <td>Roles &amp; ResponsibilitiesResponsibilities:   De...</td>\n",
       "      <td>RequirementsRequirements:   Minimum B.S. degre...</td>\n",
       "      <td>4400.0</td>\n",
       "      <td>8000.0</td>\n",
       "      <td>6200.0</td>\n",
       "    </tr>\n",
       "    <tr>\n",
       "      <th>3</th>\n",
       "      <td>PRICEWATERHOUSECOOPERS CONSULTING (SINGAPORE) ...</td>\n",
       "      <td>Data Analytics –Manager</td>\n",
       "      <td>MARINA ONE EAST TOWER, 7 STRAITS VIEW 018936</td>\n",
       "      <td>Permanent, Contract, Full Time</td>\n",
       "      <td>Manager</td>\n",
       "      <td>Consulting</td>\n",
       "      <td>$6,200to$9,500</td>\n",
       "      <td>Roles &amp; Responsibilities Advisory - Consulting...</td>\n",
       "      <td>Requirements  A good Degree in a quantitative ...</td>\n",
       "      <td>6200.0</td>\n",
       "      <td>9500.0</td>\n",
       "      <td>7850.0</td>\n",
       "    </tr>\n",
       "    <tr>\n",
       "      <th>4</th>\n",
       "      <td>Company Undisclosed</td>\n",
       "      <td>Research Fellow</td>\n",
       "      <td>NaN</td>\n",
       "      <td>Contract, Full Time</td>\n",
       "      <td>Professional, Executive</td>\n",
       "      <td>Others</td>\n",
       "      <td>$4,000to$5,000</td>\n",
       "      <td>Roles &amp; ResponsibilitiesData Scientist / Progr...</td>\n",
       "      <td>Requirements Doctorate degree in a relevant fi...</td>\n",
       "      <td>4000.0</td>\n",
       "      <td>5000.0</td>\n",
       "      <td>4500.0</td>\n",
       "    </tr>\n",
       "    <tr>\n",
       "      <th>6</th>\n",
       "      <td>JPMORGAN CHASE BANK, N.A.</td>\n",
       "      <td>Application Support Analyst, Reference Data Team</td>\n",
       "      <td>NaN</td>\n",
       "      <td>Full Time</td>\n",
       "      <td>Executive</td>\n",
       "      <td>Information Technology</td>\n",
       "      <td>$6,000to$12,000</td>\n",
       "      <td>Roles &amp; ResponsibilitiesWe are seeking an Appl...</td>\n",
       "      <td>RequirementsQualifications  7-10 years Product...</td>\n",
       "      <td>6000.0</td>\n",
       "      <td>12000.0</td>\n",
       "      <td>9000.0</td>\n",
       "    </tr>\n",
       "  </tbody>\n",
       "</table>\n",
       "</div>"
      ],
      "text/plain": [
       "                                             Company  \\\n",
       "1                      HP PPS ASIA PACIFIC PTE. LTD.   \n",
       "2                   SHOPEE SINGAPORE PRIVATE LIMITED   \n",
       "3  PRICEWATERHOUSECOOPERS CONSULTING (SINGAPORE) ...   \n",
       "4                                Company Undisclosed   \n",
       "6                          JPMORGAN CHASE BANK, N.A.   \n",
       "\n",
       "                                              Title  \\\n",
       "1                                  Business Analyst   \n",
       "2                                 Software Engineer   \n",
       "3                           Data Analytics –Manager   \n",
       "4                                   Research Fellow   \n",
       "6  Application Support Analyst, Reference Data Team   \n",
       "\n",
       "                                        Address  \\\n",
       "1                          1 DEPOT CLOSE 109841   \n",
       "2          GALAXIS, 1 FUSIONOPOLIS PLACE 138522   \n",
       "3  MARINA ONE EAST TOWER, 7 STRAITS VIEW 018936   \n",
       "4                                           NaN   \n",
       "6                                           NaN   \n",
       "\n",
       "                         Emp_type                Seniority  \\\n",
       "1            Permanent, Full Time             Professional   \n",
       "2            Permanent, Full Time                Executive   \n",
       "3  Permanent, Contract, Full Time                  Manager   \n",
       "4             Contract, Full Time  Professional, Executive   \n",
       "6                       Full Time                Executive   \n",
       "\n",
       "                 Industry           Salary  \\\n",
       "1                  Others  $8,400to$12,900   \n",
       "2  Information Technology   $4,400to$8,000   \n",
       "3             Consulting    $6,200to$9,500   \n",
       "4                  Others   $4,000to$5,000   \n",
       "6  Information Technology  $6,000to$12,000   \n",
       "\n",
       "                                      Responsibility  \\\n",
       "1  Roles & ResponsibilitiesHP is the world’s lead...   \n",
       "2  Roles & ResponsibilitiesResponsibilities:   De...   \n",
       "3  Roles & Responsibilities Advisory - Consulting...   \n",
       "4  Roles & ResponsibilitiesData Scientist / Progr...   \n",
       "6  Roles & ResponsibilitiesWe are seeking an Appl...   \n",
       "\n",
       "                                        Requirements  Salary_lower  \\\n",
       "1  RequirementsEducation and Experience Required:...        8400.0   \n",
       "2  RequirementsRequirements:   Minimum B.S. degre...        4400.0   \n",
       "3  Requirements  A good Degree in a quantitative ...        6200.0   \n",
       "4  Requirements Doctorate degree in a relevant fi...        4000.0   \n",
       "6  RequirementsQualifications  7-10 years Product...        6000.0   \n",
       "\n",
       "   Salary_upper  Salary_avg  \n",
       "1       12900.0     10650.0  \n",
       "2        8000.0      6200.0  \n",
       "3        9500.0      7850.0  \n",
       "4        5000.0      4500.0  \n",
       "6       12000.0      9000.0  "
      ]
     },
     "execution_count": 51,
     "metadata": {},
     "output_type": "execute_result"
    }
   ],
   "source": [
    "df.head()"
   ]
  },
  {
   "cell_type": "markdown",
   "metadata": {},
   "source": [
    "## Putting all the text together"
   ]
  },
  {
   "cell_type": "code",
   "execution_count": 52,
   "metadata": {},
   "outputs": [],
   "source": [
    "df[\"text\"] =  df[\"Company\"] + df[\"Title\"] + df[\"Emp_type\"] + df[\"Seniority\"] + df[\"Industry\"] + df[\"Salary\"] + df[\"Responsibility\"] + df[\"Requirements\"] "
   ]
  },
  {
   "cell_type": "code",
   "execution_count": 53,
   "metadata": {},
   "outputs": [
    {
     "data": {
      "text/plain": [
       "text          0\n",
       "Salary_avg    0\n",
       "dtype: int64"
      ]
     },
     "execution_count": 53,
     "metadata": {},
     "output_type": "execute_result"
    }
   ],
   "source": [
    "df[\"text\"].isnull().sum()\n",
    "df_clean = df[~(df[\"text\"].isnull())][['text','Salary_avg']]\n",
    "\n",
    "df_clean.isnull().sum()"
   ]
  },
  {
   "cell_type": "code",
   "execution_count": 54,
   "metadata": {
    "scrolled": true
   },
   "outputs": [
    {
     "data": {
      "text/plain": [
       "array(['hp pps asia pacific pte ltdbusiness analystpermanent full timeprofessionalothers8400to12900roles  responsibilitieshp is the worlds leading personal systems and printing company we create technology that makes life better for everyone everywhere our innovation springs from a team of individuals each collaborating and contributing their own perspectives knowledge and experience to advance the way the world works and lives we are looking for visionaries like you who are ready to make a purposeful impact on the way the world works  at hp the future is yours to create if you are our business analyst in singapore you will have a chance to   provide analysis to support businessteams needs by ensuring data integrity  accuracy be the interface to sales operations be the interface to external analyst canalys  idc establish  enable quarterly published reports drive regular  scheduled review of analysis with team  cross team members update market share quarterly  provide insights small and medium business  smb segment with pc  print support team during budgeting process key analytics includes volume  value small and medium business channel capacity  polarity insights quarterly pcprintgrowth initiativessmall and medium business power bi partner performancebusiness insights businessit trends and market insights competitive channel analysis  insights small and medium business  channel indirect retentionacquisitiondevelopment rad profiling  analysis sales attainmentproductivity analysis partner program performance reporting and analysis quarterly asia pacific headquarter commercial channel teams spent reportsanalysis ensure spent to budget requirementseducation and experience required   prior experience in either finance or sales operation with category experience a strong plus must possess strong analytical skills with keen eye for details possess business flair with good understanding of it pc  print  concepts of sellin sell through  sellout channel landscape etc must have strong excel pivot skills and excellence in dealing with numbers for data accuracy  integrity strong organizational skills strong collaborative skills with cross team members multinational company experience a plus   hp is a human capital partner  we commit to human capital development and adopting progressive workplace practices in singapore',\n",
       "       'shopee singapore private limitedsoftware engineerpermanent full timeexecutiveinformation technology4400to8000roles  responsibilitiesresponsibilities   develop and enhance data infrastructure using frameworks such as hadoop spark and flume design and build new data models and architects that will provide intuitive analytics design and build reliable data pipelines that will efficiently move data to our data warehouse design and develop new systems and tools that will enable teams to utilise understand and process data at faster speeds     requirementsrequirements   minimum bs degree in computer science or a related technical field excellent communication skills with the ability to identify and communicate data driven insights 2 years of python development and unixlinux system experience 2 years of sql mysql mssql hive etcexperience you must also possess at least 2 of the additional requirements as below 2 years of working experience in software developmentprogramming in one of java cc os environment linuxunix 2 years of working experience with distributed databases or distributed systems 2 years of working experience with dimensional data modelling  schema design in data warehouses 2 years of working experience working on bigdata analytics pipelines hadoop hive etl rdbmshadoop data management tools like sqoop     ',\n",
       "       'pricewaterhousecoopers consulting singapore pte ltddata analytics managerpermanent contract full timemanagerconsulting 6200to9500roles  responsibilities advisory  consulting  pwc consulting is a regional practice within south east asia which helps organizations work smarter and grow faster our work is always evolving to respond to industry trends and management focus and we combine our deep technical skills in response to our clients changing needs over time what we do remains closely linked with helping our clients improve the way they operate innovate and grow reduce costs manage risks leverage talent and change the way they do business  our aim is to support our clients in designing managing and executing lasting beneficial change    responsibilities   proven ability to sift through data identify critical information analyze develop hypothesis and make recommendations to broader audience  prior experience synthesizing and packaging complex analyses and delivering results to nontechnical audiences including senior leadership teams  demonstrated ability to use data to influence decision making strong project management capabilities to manage multiple project streams and complexity propensity for thinking through projects in a processoriented way  demonstrates proven intimate knowledge of advanced analytic methods and visualization techniques applying quantitative methodologies to complex business problems across multiple industry issues or functional domains  lead and manage analytics engagements including engagements in the area of business process enhancement analytics predictive analytics etc  support senior members in resolving client issues and to achieve predefined business growth targets support team in developing proposals and sales materials requirements  a good degree in a quantitative discipline statistics decisions sciences computer science economics etc  minimum 56 years of relevant working experience of handson analytics  strong technical and analytical skill sets knowledge of sasr sql and predictive modelling skills required  good presentation skills both oral and written  ability to multitask and prioritise workload with good working knowledge of microsoft office suite  good client management skills authoritative and credible in a client conversation  both in terms of personal style and subject matter expertise  must have the capability to work on several projects in parallel and be able to switch from one to another with confidence  ability to lead teams under pressure with demonstrated experience in project management ',\n",
       "       ...,\n",
       "       'standard  poors internationalllcsenior analyst sales operationsfull timeexecutivebanking and finance8000to13000roles  responsibilitiesthe role the position oversees commercial analytics in apac region primarily supporting the head of sales and relationship europe rmea and apac who is based in singapore location singapore the impact you will assist senior leaders and commercial managers develop streamlinedoperationalized tools and actionable reporting to support the sales and relationship managers job family the career opportunity our company prides itself in being an equal opportunity employer and a result faced meritocracy we set high standards and value accountability for all at the same time we seek to identify and reward exceptional performance with growth opportunities based on planned growth  initiatives you have an opportunity to emerge to more specialized roles and act as a resource for the team and the company the team  business the commercial analytics team is a fast paced challenging environment tight deadlines high pressure and large data sets are to be expected along with an opportunity to learn grow and achieve personal development goals the commercial analytics team is a unique position to support a newly design sales organization and start from the ground up on a lot of projects which provides a lot of flexibility and opportunities to develop your skills excellent organizational and communication skills strong project management and time management skills highly analytical who can work in a fast paced team environment ability to problem solve and think proactivelycreatively must have advanced excel skills responsibilities  lead maintain and improve tools processes and reporting to support the commercial managers in europe apac and rmea provide regular reporting and insights to support the apac europe and rmea commercial teams identifies develops and conducts sophisticated analyses that solves problems or answers business needs management of pipeline and forecast tools ensure forecast and pipelines are updated accurately and timely in sfdc through regular bcf budget commit forecast meetings support yearly updates in terms of quota book account assignments etc assist commercial in preparing for monthly business review meetings with counter parts in the product organization coordinate with counterparts with the commercial ops team globally to ensure consistency across the region as well as regularly work with crossfunctional teams like finance create sales and business unit related presentations participation in related group calls with us and emea colleagues requirementsqualifications  46 years of professional experience in the financial industry with a proficiency in excel sound organizational skills with the ability to manage time effectively prioritize workloads meet deadlines show initiative and make timely reliable decisions excellent communication skills both written and verbal must utilize strong phone interpersonal skills ability to work in a team environment to engage effectively with clients and other functions ability to adapt to changing environment and to work effectively as part of a team within the larger departmental and global framework ability to manage and influence others experience with largecomplex data sets maintaining a high attention to detail and working with crossfunctional teams to deliver results positive dedicated attitude and ability to engage and motivate teams strong desire to innovate and optimize processes advanced computer skills including ms excel ms word powerpoint sfdc salesforce experience is preferred   sp global market intelligence at sp global market intelligence we know that not all information is importantsome of it is vital accurate deep and insightful we integrate financial and industry data research and news into tools that help track performance generate alpha identify investment ideas understand competitive and industry dynamics perform valuation and assess credit risk investment professionals government agencies corporations and universities globally can gain the intelligence essential to making business and financial decisions with conviction sp global market intelligence is a division of sp global nyse spgi which provides essential intelligence for individuals companies and governments to make decisions with confidence for more information visit wwwspglobalcommarketintelligence to all recruitment agencies sp does not accept unsolicited agency resumes please do not forward such resumes to any sp global employee office location or website sp global will not be responsible for any fees related to such resumes sp global is an equal opportunity employer committed to making all employment decisions without regard to raceethnicity gender pregnancy gender identity or expression color creed religion national origin age disability marital status including domestic partnerships and civil unions sexual orientation military veteran status unemployment status or other legally protected categories subject to applicable law',\n",
       "       'accenture pte ltddigital api architectpermanent full timesenior management middle management manager professionalinformation technology4000to8000roles  responsibilitiesjoin accenture and help transform leading organizations and communities around the world the sheer scale of our capabilities and client engagements and the way we collaborate operate and deliver value provides an unparalleled opportunity to grow and advance choose accenture and make delivering innovative work part of your extraordinary career the digital revolution is changing everything its everywhere  transforming how we work and play are you reacting to the disruption each day or are you leading the way as a digital disrupter accenture digital is driving these exciting changes and bringing them to life across 40 industries in more than 120 countries at the forefront of digital youll create it own it and make it a reality for clients looking to better serve their connected customers and operate alwayson enterprises join us and become an integral part of our experienced digital team with the credibility expertise and insight clients depend on accenture digital is powered by three practices mobility interactive and analytics as part of our mobility practice youll help clients deepen connections with consumers employees businesses and machines of the major digital technologies mobility has risen to the top in terms of importance to organizations most surveyed now consider mobility among their top five priorities job description your central role in the digital ecosystem enables you to help clients manage the demands of fastmoving environments with your knowledge of innovative onthego solutions youll help them become digital leaders by creating strategic crosscompany approaches that increase productivity enhance collaboration and drive more transactions through innovative services and business models act as subject matter expert in area of expertise  participate in projects as the sme focused on delivering agreed business outcomes for our clients andor accenture regularly counsel client management team on issues and trends affecting their organization lead andor act as a key player in critical situations within area of expertise either internally for accenture or at client engagements be familiar with cloudbased architecture aws azure or gcp agile methodology  devops and can quickly combine technologies to showcase real value use expertise to initiateparticipate in api strategy api management and governance consulting engagements and works with other team members to ensure successful delivery of client work  build key relationships  collaborate with smes and harness their skills as a team to produce a quick working solution to the client that is incremental in nature and priced appropriately collaborate with the accenture teams and subject matter experts across tower interactive analytics mobility capabilities and industry knowledge required during the sales process and the communicationcollaboration with delivery organizations and provide input to terms and conditions where applicable collaborate as a key member of the sales team and delivery teams to represent the solution to the client buyer and other internal accenture groups operating group leadership and sales team senior client buyers and functional owner relationships partner and team with solution providers and agencies to deliver the best solution meeting the needs of our clients contribute to assetsofferings and thought leadership use expertise to develop operable and cost effective solutions review solution blueprints effort estimates conceptual designs andor other deliverables actively contribute to accenture assetsofferings points of view knowledge exchange discussion boards etc officially act as a mentor or coach to junior people to help grow the next generation of innovators and thought leaders  drive quality delivery and performance excellence  understand broadly the many technologies and architectural principlesespecially apicentric architecture cloud computing architectureand ecosystem players that make up the digital ecosystem and their positions and trajectories and can confidently discuss these dynamics both inside accenture and with our clients can articulate assumption characteristics of the solution leading the deal team to arrive at the best priced solution foster lean  value led solutions drive adoption of platform solutions reuse of assets and services  drive solution design and delivery  follow closely digital mobility  cloud computing landscape and identify technology trends and potential vendorsproducts to ingest into solutions understand and translate client requirements into a solution design solution plan proposal and cost and benefit estimate leverage standard process methods deliverables and the right collection of offerings that may need to be created in shaping deals with innovation  new sales experience help to connect the dots to innovation centers  provide prototyping for selling and delivery coach and mentor client to define the problem by strong questioning and showing them case studies and solutions in the market to enable development of the right solution design understandclearly define the input required to create cost and benefits estimates provide input to the deal team on schedule work plan resourcesourcing plan and risk mitigation plans represent the solution in conversation with operating group leadership and sales team senior client buyers and functional owner relationships align final solution architecture including statement of work schedules and other contractual documents with final terms and conditions as well as client expectations   enhance accentures marketplace reputation  participate in external organizations related to functional technical or industry area of expertise to enhance accentures brand recognition educating on next generation digital technology establish own network of business organizations think tanks and opinion formers within area of expertise build strong and extensive external networks for the interchange of ideas between accenture and external decision makers thought leaders and the wider professional community demonstrate expertise internally and preferably externally eg presentations for analystsconferences speaking engagements published author etc requirementsbasic qualifications  minimum of 5 years of experience in digital solution architectures preferably with at least 4 years of experience with an api management software like apigee ca layer 7 mulesoft or equivalent with the knowledge of api mashups analytics developer networks monetization models and api security minimum of 5 years of experience in soa design and implementation and system integration using soa minimum of 3 years of combined development experience using java json jsp javascript and nodejs or equivalent programming languages minimum of 5 years of development experience using wsdlsoapxml and restjson or equivalent functional domain expertise in one or more of the following industries telco banking media retail healthcare resources or government relevant degree or master holder  preferred skills and attributes  a strong sense of business acumen with solid technical foundation entrepreneur mindset  always see things in multiple angles constantly challenge the norm and constantly looking for better solutions to problems technically strong and think digital experience with largescale complex system integration implementations experience with developing mobile apps connected devices or m2m technologies strong in modern digital architectures such as cloudfirst or serverless strong understanding in api and developer economy strong in api design and best practices strong in platform and architecture technical skills such as soa or j2ee and knowledge of emerging technologiesplatforms in mobility analytics cloud and social experience in working with aws gcp heroku or equivalent experience in working in agile and continuous integrationcontinuous delivery methodologies subject matter experts in one or more of these domains soa apifirst architecture mobile development mobile backend api security mobility security api analytics api design rest design agile and devops practices  benefits  entrepreneurial spirit and vision will be rewarded and your success will fuel opportunities for career advancement youll make a difference for some pretty impressive clients our digital practice serves many of the fortune global 100 on highprofile projects opportunities to learn daily through training assignments and collaborating with experts across the company access to leadingedge technology accenture offers our employees a total rewards package which includes compensation and a range of marketrelevant benefits and professional growth opportunities that recognize individual contributions and performance we also offer a number of programs that help our employees balance a successful career with a healthy lifestyle involving family friends and community  all of our consulting professionals receive comprehensive training covering business acumen technical and professional skills development youll also have opportunities to hone your functional skills and expertise in an area of specialization we offer a variety of formal and informal training programs at every level to help you acquire and build specialized skills faster learning takes place both on the job and through formal training conducted online in the classroom or in collaboration with teammates the sheer variety of work we do and the experience it offers provide an unbeatable platform from which to build a career accenture is an equal opportunities employer and welcomes applications from all sections of society and does not discriminate on grounds of race religion or belief ethnic or national origin disability age citizenship marital domestic or civil partnership status sexual orientation gender identity or any other basis as protected by applicable law',\n",
       "       'panunited concrete pte ltdbusiness analystpermanent full timeexecutiveadmin  secretarial information technology3000to4000roles  responsibilities analyses the feasibility of and develops requirements for new systems or enhancements to existing systems ensures the system design fits the needs of the users monitors project progress by tracking activity resolving problems recommending actions identifies opportunities for improving business processes through information systems provides references for users by writing and maintaining user documentation providing help desk support training users study business functions gather information evaluating output requirements and formats reviews analyses and creates detailed documentation of business systems and user needs research and prepares statistical reports for use in management decisionmaking participates in user acceptance testing and testing of new system functionality requirements degree in business administration or related field preferably at least 2 years experience in related field knowledge in hyperion and oracle is an advantage able to work independently meticulous positive attitude and a team player good interpersonal and communication skills proficient in ms office '],\n",
       "      dtype=object)"
      ]
     },
     "execution_count": 54,
     "metadata": {},
     "output_type": "execute_result"
    }
   ],
   "source": [
    "# removing puncuations and lower text\n",
    "import string \n",
    "import re\n",
    "df_clean[\"text\"] = df_clean[\"text\"].map(lambda x: re.sub('[^ a-zA-Z0-9]', '', x).lower())\n",
    "df_clean[\"text\"].values"
   ]
  },
  {
   "cell_type": "code",
   "execution_count": 55,
   "metadata": {},
   "outputs": [
    {
     "data": {
      "text/html": [
       "<div>\n",
       "<style scoped>\n",
       "    .dataframe tbody tr th:only-of-type {\n",
       "        vertical-align: middle;\n",
       "    }\n",
       "\n",
       "    .dataframe tbody tr th {\n",
       "        vertical-align: top;\n",
       "    }\n",
       "\n",
       "    .dataframe thead th {\n",
       "        text-align: right;\n",
       "    }\n",
       "</style>\n",
       "<table border=\"1\" class=\"dataframe\">\n",
       "  <thead>\n",
       "    <tr style=\"text-align: right;\">\n",
       "      <th></th>\n",
       "      <th>text</th>\n",
       "      <th>Salary_avg</th>\n",
       "    </tr>\n",
       "  </thead>\n",
       "  <tbody>\n",
       "    <tr>\n",
       "      <th>1</th>\n",
       "      <td>hp pps asia pacific pte ltdbusiness analystper...</td>\n",
       "      <td>10650.0</td>\n",
       "    </tr>\n",
       "    <tr>\n",
       "      <th>2</th>\n",
       "      <td>shopee singapore private limitedsoftware engin...</td>\n",
       "      <td>6200.0</td>\n",
       "    </tr>\n",
       "    <tr>\n",
       "      <th>3</th>\n",
       "      <td>pricewaterhousecoopers consulting singapore pt...</td>\n",
       "      <td>7850.0</td>\n",
       "    </tr>\n",
       "    <tr>\n",
       "      <th>4</th>\n",
       "      <td>company undisclosedresearch fellowcontract ful...</td>\n",
       "      <td>4500.0</td>\n",
       "    </tr>\n",
       "    <tr>\n",
       "      <th>6</th>\n",
       "      <td>jpmorgan chase bank naapplication support anal...</td>\n",
       "      <td>9000.0</td>\n",
       "    </tr>\n",
       "  </tbody>\n",
       "</table>\n",
       "</div>"
      ],
      "text/plain": [
       "                                                text  Salary_avg\n",
       "1  hp pps asia pacific pte ltdbusiness analystper...     10650.0\n",
       "2  shopee singapore private limitedsoftware engin...      6200.0\n",
       "3  pricewaterhousecoopers consulting singapore pt...      7850.0\n",
       "4  company undisclosedresearch fellowcontract ful...      4500.0\n",
       "6  jpmorgan chase bank naapplication support anal...      9000.0"
      ]
     },
     "execution_count": 55,
     "metadata": {},
     "output_type": "execute_result"
    }
   ],
   "source": [
    "df_clean.head()"
   ]
  },
  {
   "cell_type": "markdown",
   "metadata": {},
   "source": [
    "## Starting the NLP portion"
   ]
  },
  {
   "cell_type": "code",
   "execution_count": 56,
   "metadata": {},
   "outputs": [],
   "source": [
    "import pandas as pd, seaborn as sns, numpy as np, matplotlib.pyplot as plt\n",
    "\n",
    "from sklearn.feature_extraction.text import CountVectorizer, TfidfTransformer, TfidfVectorizer \n",
    "from sklearn.feature_extraction.text import TfidfTransformer\n",
    "from sklearn.feature_extraction.text import TfidfVectorizer\n",
    "from sklearn.model_selection import learning_curve\n",
    "from sklearn.model_selection import train_test_split, cross_val_score, ShuffleSplit\n",
    "from sklearn.metrics import classification_report\n",
    "from sklearn.naive_bayes import MultinomialNB, BernoulliNB, GaussianNB\n",
    "from sklearn.linear_model import LogisticRegression\n",
    "\n",
    "from sklearn.pipeline import Pipeline\n",
    "\n",
    "%matplotlib inline\n",
    "\n",
    "sns.set_style(\"darkgrid\")"
   ]
  },
  {
   "cell_type": "code",
   "execution_count": 57,
   "metadata": {},
   "outputs": [
    {
     "data": {
      "text/plain": [
       "<1227x886 sparse matrix of type '<type 'numpy.int64'>'\n",
       "\twith 131032 stored elements in Compressed Sparse Row format>"
      ]
     },
     "execution_count": 57,
     "metadata": {},
     "output_type": "execute_result"
    }
   ],
   "source": [
    "cvt      =  CountVectorizer(strip_accents='unicode', stop_words=\"english\", min_df=51)\n",
    "X_all    =  cvt.fit_transform(df_clean['text'])\n",
    "columns  =  np.array(cvt.get_feature_names()) \n",
    "\n",
    "X_all\n"
   ]
  },
  {
   "cell_type": "code",
   "execution_count": 58,
   "metadata": {},
   "outputs": [
    {
     "data": {
      "text/plain": [
       "data            4871\n",
       "experience      4237\n",
       "business        4126\n",
       "management      2407\n",
       "team            2366\n",
       "skills          2117\n",
       "work            2110\n",
       "analytics       1718\n",
       "requirements    1639\n",
       "development     1575\n",
       "strong          1479\n",
       "support         1437\n",
       "knowledge       1428\n",
       "working         1331\n",
       "project         1285\n",
       "solutions       1221\n",
       "ability         1215\n",
       "analysis        1157\n",
       "design          1153\n",
       "years           1099\n",
       "dtype: int64"
      ]
     },
     "execution_count": 58,
     "metadata": {},
     "output_type": "execute_result"
    }
   ],
   "source": [
    "def get_freq_words(sparse_counts, columns):\n",
    "    # X_all is a sparse matrix, so sum() returns a 'matrix' datatype ...\n",
    "    #   which we then convert into a 1-D ndarray for sorting\n",
    "    word_counts = np.asarray(X_all.sum(axis=0)).reshape(-1)\n",
    "\n",
    "    # argsort() returns smallest first, so we reverse the result\n",
    "    largest_count_indices = word_counts.argsort()[::-1]\n",
    "\n",
    "    # pretty-print the results! Remember to always ask whether they make sense ...\n",
    "    freq_words = pd.Series(word_counts[largest_count_indices], \n",
    "                           index=columns[largest_count_indices])\n",
    "\n",
    "    return freq_words\n",
    "\n",
    "\n",
    "freq_words = get_freq_words(X_all, columns)\n",
    "freq_words[:20]"
   ]
  },
  {
   "cell_type": "code",
   "execution_count": 61,
   "metadata": {},
   "outputs": [
    {
     "name": "stdout",
     "output_type": "stream",
     "text": [
      "(370474L,)\n"
     ]
    },
    {
     "data": {
      "text/plain": [
       "data          4871\n",
       "experience    4237\n",
       "business      4126\n",
       "management    2407\n",
       "team          2366\n",
       "dtype: int64"
      ]
     },
     "execution_count": 61,
     "metadata": {},
     "output_type": "execute_result"
    }
   ],
   "source": [
    "cvt = CountVectorizer(stop_words=\"english\", ngram_range=(1,3))\n",
    "X_all = cvt.fit_transform(df_clean['text'])\n",
    "columns  =  np.array(cvt.get_feature_names())\n",
    "\n",
    "freq_words = get_freq_words(X_all, columns)\n",
    "print(freq_words.shape)\n",
    "freq_words.head()\n"
   ]
  },
  {
   "cell_type": "code",
   "execution_count": 29,
   "metadata": {},
   "outputs": [
    {
     "data": {
      "text/plain": [
       "count     1226.000000\n",
       "mean      7251.650897\n",
       "std       3275.752636\n",
       "min        400.000000\n",
       "25%       5000.000000\n",
       "50%       6500.000000\n",
       "75%       9000.000000\n",
       "max      25000.000000\n",
       "Name: Salary_avg, dtype: float64"
      ]
     },
     "execution_count": 29,
     "metadata": {},
     "output_type": "execute_result"
    }
   ],
   "source": [
    "df_clean['Salary_avg'].describe()"
   ]
  },
  {
   "cell_type": "code",
   "execution_count": 21,
   "metadata": {},
   "outputs": [
    {
     "name": "stdout",
     "output_type": "stream",
     "text": [
      "24431.57695698307\n"
     ]
    },
    {
     "data": {
      "text/plain": [
       "25"
      ]
     },
     "execution_count": 21,
     "metadata": {},
     "output_type": "execute_result"
    }
   ],
   "source": [
    "# at max 300000 was a really odd number on further exploration realized that this was an annual income therefore\n",
    "# it is not an actual representation of the \"true\" max so to speak \n",
    "print np.median(df_clean['Salary_avg'])+np.std(df_clean['Salary_avg'])\n",
    "len(df_clean[df_clean['Salary_avg']>np.median(df_clean['Salary_avg'])+np.std(df_clean['Salary_avg'])])"
   ]
  },
  {
   "cell_type": "code",
   "execution_count": 22,
   "metadata": {},
   "outputs": [],
   "source": [
    "df_clean = df_clean[df_clean['Salary_avg']>1] #remove outlier 1\n",
    "df_clean['Salary_avg'] = df_clean['Salary_avg'].map(lambda x: x/12 if x>np.median(df_clean['Salary_avg'])+np.std(df_clean['Salary_avg']) else x) #normalise to monthly"
   ]
  },
  {
   "cell_type": "code",
   "execution_count": 23,
   "metadata": {},
   "outputs": [
    {
     "data": {
      "text/plain": [
       "count     1226.000000\n",
       "mean      7251.650897\n",
       "std       3275.752636\n",
       "min        400.000000\n",
       "25%       5000.000000\n",
       "50%       6500.000000\n",
       "75%       9000.000000\n",
       "max      25000.000000\n",
       "Name: Salary_avg, dtype: float64"
      ]
     },
     "execution_count": 23,
     "metadata": {},
     "output_type": "execute_result"
    }
   ],
   "source": [
    "df_clean['Salary_avg'].describe()"
   ]
  },
  {
   "cell_type": "code",
   "execution_count": 24,
   "metadata": {},
   "outputs": [
    {
     "data": {
      "text/html": [
       "<div>\n",
       "<style scoped>\n",
       "    .dataframe tbody tr th:only-of-type {\n",
       "        vertical-align: middle;\n",
       "    }\n",
       "\n",
       "    .dataframe tbody tr th {\n",
       "        vertical-align: top;\n",
       "    }\n",
       "\n",
       "    .dataframe thead th {\n",
       "        text-align: right;\n",
       "    }\n",
       "</style>\n",
       "<table border=\"1\" class=\"dataframe\">\n",
       "  <thead>\n",
       "    <tr style=\"text-align: right;\">\n",
       "      <th></th>\n",
       "      <th>Salary_avg</th>\n",
       "      <th>Salary_avg_cat</th>\n",
       "    </tr>\n",
       "  </thead>\n",
       "  <tbody>\n",
       "    <tr>\n",
       "      <th>1</th>\n",
       "      <td>10650.000000</td>\n",
       "      <td>2</td>\n",
       "    </tr>\n",
       "    <tr>\n",
       "      <th>2</th>\n",
       "      <td>6200.000000</td>\n",
       "      <td>1</td>\n",
       "    </tr>\n",
       "    <tr>\n",
       "      <th>3</th>\n",
       "      <td>7850.000000</td>\n",
       "      <td>1</td>\n",
       "    </tr>\n",
       "    <tr>\n",
       "      <th>4</th>\n",
       "      <td>4500.000000</td>\n",
       "      <td>0</td>\n",
       "    </tr>\n",
       "    <tr>\n",
       "      <th>6</th>\n",
       "      <td>9000.000000</td>\n",
       "      <td>1</td>\n",
       "    </tr>\n",
       "    <tr>\n",
       "      <th>7</th>\n",
       "      <td>11250.000000</td>\n",
       "      <td>2</td>\n",
       "    </tr>\n",
       "    <tr>\n",
       "      <th>8</th>\n",
       "      <td>3750.000000</td>\n",
       "      <td>0</td>\n",
       "    </tr>\n",
       "    <tr>\n",
       "      <th>9</th>\n",
       "      <td>5500.000000</td>\n",
       "      <td>1</td>\n",
       "    </tr>\n",
       "    <tr>\n",
       "      <th>11</th>\n",
       "      <td>9166.666667</td>\n",
       "      <td>2</td>\n",
       "    </tr>\n",
       "    <tr>\n",
       "      <th>12</th>\n",
       "      <td>4250.000000</td>\n",
       "      <td>0</td>\n",
       "    </tr>\n",
       "    <tr>\n",
       "      <th>13</th>\n",
       "      <td>5500.000000</td>\n",
       "      <td>1</td>\n",
       "    </tr>\n",
       "    <tr>\n",
       "      <th>17</th>\n",
       "      <td>4000.000000</td>\n",
       "      <td>0</td>\n",
       "    </tr>\n",
       "    <tr>\n",
       "      <th>18</th>\n",
       "      <td>5175.000000</td>\n",
       "      <td>1</td>\n",
       "    </tr>\n",
       "    <tr>\n",
       "      <th>19</th>\n",
       "      <td>7500.000000</td>\n",
       "      <td>1</td>\n",
       "    </tr>\n",
       "    <tr>\n",
       "      <th>22</th>\n",
       "      <td>5150.000000</td>\n",
       "      <td>1</td>\n",
       "    </tr>\n",
       "    <tr>\n",
       "      <th>23</th>\n",
       "      <td>5000.000000</td>\n",
       "      <td>1</td>\n",
       "    </tr>\n",
       "    <tr>\n",
       "      <th>24</th>\n",
       "      <td>3750.000000</td>\n",
       "      <td>0</td>\n",
       "    </tr>\n",
       "    <tr>\n",
       "      <th>25</th>\n",
       "      <td>4500.000000</td>\n",
       "      <td>0</td>\n",
       "    </tr>\n",
       "    <tr>\n",
       "      <th>26</th>\n",
       "      <td>3750.000000</td>\n",
       "      <td>0</td>\n",
       "    </tr>\n",
       "    <tr>\n",
       "      <th>27</th>\n",
       "      <td>4500.000000</td>\n",
       "      <td>0</td>\n",
       "    </tr>\n",
       "    <tr>\n",
       "      <th>31</th>\n",
       "      <td>5000.000000</td>\n",
       "      <td>1</td>\n",
       "    </tr>\n",
       "    <tr>\n",
       "      <th>32</th>\n",
       "      <td>5000.000000</td>\n",
       "      <td>1</td>\n",
       "    </tr>\n",
       "    <tr>\n",
       "      <th>34</th>\n",
       "      <td>6500.000000</td>\n",
       "      <td>1</td>\n",
       "    </tr>\n",
       "    <tr>\n",
       "      <th>35</th>\n",
       "      <td>8500.000000</td>\n",
       "      <td>1</td>\n",
       "    </tr>\n",
       "    <tr>\n",
       "      <th>36</th>\n",
       "      <td>3250.000000</td>\n",
       "      <td>0</td>\n",
       "    </tr>\n",
       "    <tr>\n",
       "      <th>38</th>\n",
       "      <td>8250.000000</td>\n",
       "      <td>1</td>\n",
       "    </tr>\n",
       "    <tr>\n",
       "      <th>39</th>\n",
       "      <td>3500.000000</td>\n",
       "      <td>0</td>\n",
       "    </tr>\n",
       "    <tr>\n",
       "      <th>40</th>\n",
       "      <td>4000.000000</td>\n",
       "      <td>0</td>\n",
       "    </tr>\n",
       "    <tr>\n",
       "      <th>41</th>\n",
       "      <td>15666.500000</td>\n",
       "      <td>2</td>\n",
       "    </tr>\n",
       "    <tr>\n",
       "      <th>42</th>\n",
       "      <td>3250.000000</td>\n",
       "      <td>0</td>\n",
       "    </tr>\n",
       "    <tr>\n",
       "      <th>...</th>\n",
       "      <td>...</td>\n",
       "      <td>...</td>\n",
       "    </tr>\n",
       "    <tr>\n",
       "      <th>1589</th>\n",
       "      <td>6250.000000</td>\n",
       "      <td>1</td>\n",
       "    </tr>\n",
       "    <tr>\n",
       "      <th>1590</th>\n",
       "      <td>8000.000000</td>\n",
       "      <td>1</td>\n",
       "    </tr>\n",
       "    <tr>\n",
       "      <th>1591</th>\n",
       "      <td>6750.000000</td>\n",
       "      <td>1</td>\n",
       "    </tr>\n",
       "    <tr>\n",
       "      <th>1592</th>\n",
       "      <td>4200.000000</td>\n",
       "      <td>0</td>\n",
       "    </tr>\n",
       "    <tr>\n",
       "      <th>1593</th>\n",
       "      <td>9500.000000</td>\n",
       "      <td>2</td>\n",
       "    </tr>\n",
       "    <tr>\n",
       "      <th>1594</th>\n",
       "      <td>7900.000000</td>\n",
       "      <td>1</td>\n",
       "    </tr>\n",
       "    <tr>\n",
       "      <th>1595</th>\n",
       "      <td>13300.000000</td>\n",
       "      <td>2</td>\n",
       "    </tr>\n",
       "    <tr>\n",
       "      <th>1597</th>\n",
       "      <td>5900.000000</td>\n",
       "      <td>1</td>\n",
       "    </tr>\n",
       "    <tr>\n",
       "      <th>1598</th>\n",
       "      <td>6000.000000</td>\n",
       "      <td>1</td>\n",
       "    </tr>\n",
       "    <tr>\n",
       "      <th>1599</th>\n",
       "      <td>4500.000000</td>\n",
       "      <td>0</td>\n",
       "    </tr>\n",
       "    <tr>\n",
       "      <th>1600</th>\n",
       "      <td>4750.000000</td>\n",
       "      <td>0</td>\n",
       "    </tr>\n",
       "    <tr>\n",
       "      <th>1601</th>\n",
       "      <td>5250.000000</td>\n",
       "      <td>1</td>\n",
       "    </tr>\n",
       "    <tr>\n",
       "      <th>1603</th>\n",
       "      <td>7000.000000</td>\n",
       "      <td>1</td>\n",
       "    </tr>\n",
       "    <tr>\n",
       "      <th>1604</th>\n",
       "      <td>4500.000000</td>\n",
       "      <td>0</td>\n",
       "    </tr>\n",
       "    <tr>\n",
       "      <th>1606</th>\n",
       "      <td>11500.000000</td>\n",
       "      <td>2</td>\n",
       "    </tr>\n",
       "    <tr>\n",
       "      <th>1608</th>\n",
       "      <td>9750.000000</td>\n",
       "      <td>2</td>\n",
       "    </tr>\n",
       "    <tr>\n",
       "      <th>1609</th>\n",
       "      <td>5000.000000</td>\n",
       "      <td>1</td>\n",
       "    </tr>\n",
       "    <tr>\n",
       "      <th>1611</th>\n",
       "      <td>5000.000000</td>\n",
       "      <td>1</td>\n",
       "    </tr>\n",
       "    <tr>\n",
       "      <th>1612</th>\n",
       "      <td>4350.000000</td>\n",
       "      <td>0</td>\n",
       "    </tr>\n",
       "    <tr>\n",
       "      <th>1613</th>\n",
       "      <td>5500.000000</td>\n",
       "      <td>1</td>\n",
       "    </tr>\n",
       "    <tr>\n",
       "      <th>1614</th>\n",
       "      <td>9750.000000</td>\n",
       "      <td>2</td>\n",
       "    </tr>\n",
       "    <tr>\n",
       "      <th>1615</th>\n",
       "      <td>7500.000000</td>\n",
       "      <td>1</td>\n",
       "    </tr>\n",
       "    <tr>\n",
       "      <th>1616</th>\n",
       "      <td>12500.000000</td>\n",
       "      <td>2</td>\n",
       "    </tr>\n",
       "    <tr>\n",
       "      <th>1617</th>\n",
       "      <td>9250.000000</td>\n",
       "      <td>2</td>\n",
       "    </tr>\n",
       "    <tr>\n",
       "      <th>1618</th>\n",
       "      <td>5500.000000</td>\n",
       "      <td>1</td>\n",
       "    </tr>\n",
       "    <tr>\n",
       "      <th>1620</th>\n",
       "      <td>5100.000000</td>\n",
       "      <td>1</td>\n",
       "    </tr>\n",
       "    <tr>\n",
       "      <th>1621</th>\n",
       "      <td>3250.000000</td>\n",
       "      <td>0</td>\n",
       "    </tr>\n",
       "    <tr>\n",
       "      <th>1623</th>\n",
       "      <td>10500.000000</td>\n",
       "      <td>2</td>\n",
       "    </tr>\n",
       "    <tr>\n",
       "      <th>1624</th>\n",
       "      <td>6000.000000</td>\n",
       "      <td>1</td>\n",
       "    </tr>\n",
       "    <tr>\n",
       "      <th>1625</th>\n",
       "      <td>3500.000000</td>\n",
       "      <td>0</td>\n",
       "    </tr>\n",
       "  </tbody>\n",
       "</table>\n",
       "<p>1226 rows × 2 columns</p>\n",
       "</div>"
      ],
      "text/plain": [
       "        Salary_avg  Salary_avg_cat\n",
       "1     10650.000000               2\n",
       "2      6200.000000               1\n",
       "3      7850.000000               1\n",
       "4      4500.000000               0\n",
       "6      9000.000000               1\n",
       "7     11250.000000               2\n",
       "8      3750.000000               0\n",
       "9      5500.000000               1\n",
       "11     9166.666667               2\n",
       "12     4250.000000               0\n",
       "13     5500.000000               1\n",
       "17     4000.000000               0\n",
       "18     5175.000000               1\n",
       "19     7500.000000               1\n",
       "22     5150.000000               1\n",
       "23     5000.000000               1\n",
       "24     3750.000000               0\n",
       "25     4500.000000               0\n",
       "26     3750.000000               0\n",
       "27     4500.000000               0\n",
       "31     5000.000000               1\n",
       "32     5000.000000               1\n",
       "34     6500.000000               1\n",
       "35     8500.000000               1\n",
       "36     3250.000000               0\n",
       "38     8250.000000               1\n",
       "39     3500.000000               0\n",
       "40     4000.000000               0\n",
       "41    15666.500000               2\n",
       "42     3250.000000               0\n",
       "...            ...             ...\n",
       "1589   6250.000000               1\n",
       "1590   8000.000000               1\n",
       "1591   6750.000000               1\n",
       "1592   4200.000000               0\n",
       "1593   9500.000000               2\n",
       "1594   7900.000000               1\n",
       "1595  13300.000000               2\n",
       "1597   5900.000000               1\n",
       "1598   6000.000000               1\n",
       "1599   4500.000000               0\n",
       "1600   4750.000000               0\n",
       "1601   5250.000000               1\n",
       "1603   7000.000000               1\n",
       "1604   4500.000000               0\n",
       "1606  11500.000000               2\n",
       "1608   9750.000000               2\n",
       "1609   5000.000000               1\n",
       "1611   5000.000000               1\n",
       "1612   4350.000000               0\n",
       "1613   5500.000000               1\n",
       "1614   9750.000000               2\n",
       "1615   7500.000000               1\n",
       "1616  12500.000000               2\n",
       "1617   9250.000000               2\n",
       "1618   5500.000000               1\n",
       "1620   5100.000000               1\n",
       "1621   3250.000000               0\n",
       "1623  10500.000000               2\n",
       "1624   6000.000000               1\n",
       "1625   3500.000000               0\n",
       "\n",
       "[1226 rows x 2 columns]"
      ]
     },
     "execution_count": 24,
     "metadata": {},
     "output_type": "execute_result"
    }
   ],
   "source": [
    "df_clean['Salary_avg_cat'] = df_clean['Salary_avg'].apply(lambda x: 0 if x < 5000 else 2 if x > 9000 else 1)\n",
    "df_clean[['Salary_avg','Salary_avg_cat']]"
   ]
  },
  {
   "cell_type": "code",
   "execution_count": 25,
   "metadata": {},
   "outputs": [
    {
     "data": {
      "text/html": [
       "<div>\n",
       "<style scoped>\n",
       "    .dataframe tbody tr th:only-of-type {\n",
       "        vertical-align: middle;\n",
       "    }\n",
       "\n",
       "    .dataframe tbody tr th {\n",
       "        vertical-align: top;\n",
       "    }\n",
       "\n",
       "    .dataframe thead th {\n",
       "        text-align: right;\n",
       "    }\n",
       "</style>\n",
       "<table border=\"1\" class=\"dataframe\">\n",
       "  <thead>\n",
       "    <tr style=\"text-align: right;\">\n",
       "      <th></th>\n",
       "      <th>text</th>\n",
       "      <th>Salary_avg</th>\n",
       "      <th>Salary_avg_cat</th>\n",
       "    </tr>\n",
       "  </thead>\n",
       "  <tbody>\n",
       "    <tr>\n",
       "      <th>1</th>\n",
       "      <td>hp pps asia pacific pte ltdbusiness analystper...</td>\n",
       "      <td>10650.0</td>\n",
       "      <td>2</td>\n",
       "    </tr>\n",
       "    <tr>\n",
       "      <th>2</th>\n",
       "      <td>shopee singapore private limitedsoftware engin...</td>\n",
       "      <td>6200.0</td>\n",
       "      <td>1</td>\n",
       "    </tr>\n",
       "    <tr>\n",
       "      <th>3</th>\n",
       "      <td>pricewaterhousecoopers consulting singapore pt...</td>\n",
       "      <td>7850.0</td>\n",
       "      <td>1</td>\n",
       "    </tr>\n",
       "    <tr>\n",
       "      <th>4</th>\n",
       "      <td>company undisclosedresearch fellowcontract ful...</td>\n",
       "      <td>4500.0</td>\n",
       "      <td>0</td>\n",
       "    </tr>\n",
       "    <tr>\n",
       "      <th>6</th>\n",
       "      <td>jpmorgan chase bank naapplication support anal...</td>\n",
       "      <td>9000.0</td>\n",
       "      <td>1</td>\n",
       "    </tr>\n",
       "  </tbody>\n",
       "</table>\n",
       "</div>"
      ],
      "text/plain": [
       "                                                text  Salary_avg  \\\n",
       "1  hp pps asia pacific pte ltdbusiness analystper...     10650.0   \n",
       "2  shopee singapore private limitedsoftware engin...      6200.0   \n",
       "3  pricewaterhousecoopers consulting singapore pt...      7850.0   \n",
       "4  company undisclosedresearch fellowcontract ful...      4500.0   \n",
       "6  jpmorgan chase bank naapplication support anal...      9000.0   \n",
       "\n",
       "   Salary_avg_cat  \n",
       "1               2  \n",
       "2               1  \n",
       "3               1  \n",
       "4               0  \n",
       "6               1  "
      ]
     },
     "execution_count": 25,
     "metadata": {},
     "output_type": "execute_result"
    }
   ],
   "source": [
    "df_clean.head()"
   ]
  },
  {
   "cell_type": "markdown",
   "metadata": {},
   "source": [
    "## Using Logistic Regression"
   ]
  },
  {
   "cell_type": "code",
   "execution_count": 30,
   "metadata": {
    "scrolled": true
   },
   "outputs": [
    {
     "data": {
      "text/plain": [
       "LogisticRegression(C=1.0, class_weight=None, dual=False, fit_intercept=True,\n",
       "          intercept_scaling=1, max_iter=100, multi_class='ovr', n_jobs=1,\n",
       "          penalty='l2', random_state=None, solver='liblinear', tol=0.0001,\n",
       "          verbose=0, warm_start=False)"
      ]
     },
     "execution_count": 30,
     "metadata": {},
     "output_type": "execute_result"
    }
   ],
   "source": [
    "X = X_all\n",
    "y = df_clean['Salary_avg_cat']\n",
    "X_train, X_test, y_train, y_test = train_test_split(X, y, test_size=0.3, random_state=0)\n",
    "from sklearn.linear_model import LogisticRegression\n",
    "from sklearn import metrics\n",
    "logreg = LogisticRegression()\n",
    "logreg.fit(X_train, y_train)"
   ]
  },
  {
   "cell_type": "code",
   "execution_count": 31,
   "metadata": {},
   "outputs": [
    {
     "name": "stdout",
     "output_type": "stream",
     "text": [
      "Accuracy of logistic regression classifier on test set: 0.63\n"
     ]
    }
   ],
   "source": [
    "y_pred = logreg.predict(X_test)\n",
    "print('Accuracy of logistic regression classifier on test set: {:.2f}'.format(logreg.score(X_test, y_test)))"
   ]
  },
  {
   "cell_type": "code",
   "execution_count": 32,
   "metadata": {},
   "outputs": [
    {
     "name": "stdout",
     "output_type": "stream",
     "text": [
      "10-fold cross validation average accuracy: 0.632\n"
     ]
    }
   ],
   "source": [
    "from sklearn import model_selection\n",
    "from sklearn.model_selection import cross_val_score\n",
    "kfold = model_selection.KFold(n_splits=10, random_state=7)\n",
    "modelCV = LogisticRegression()\n",
    "scoring = 'accuracy'\n",
    "results = model_selection.cross_val_score(modelCV, X_train, y_train, cv=kfold, scoring=scoring)\n",
    "print(\"10-fold cross validation average accuracy: %.3f\" % (results.mean()))"
   ]
  },
  {
   "cell_type": "code",
   "execution_count": 33,
   "metadata": {},
   "outputs": [
    {
     "data": {
      "text/plain": [
       "1    51.631702\n",
       "2    24.592075\n",
       "0    23.776224\n",
       "Name: Salary_avg_cat, dtype: float64"
      ]
     },
     "execution_count": 33,
     "metadata": {},
     "output_type": "execute_result"
    }
   ],
   "source": [
    "y_train.value_counts()/len(y_train)*100"
   ]
  },
  {
   "cell_type": "code",
   "execution_count": 34,
   "metadata": {},
   "outputs": [
    {
     "data": {
      "text/plain": [
       "(array([2, 1, 1, 1, 1, 1, 0, 1, 1, 2, 1, 0, 1, 2, 1, 0, 1, 1, 1, 1, 1, 1,\n",
       "        1, 0, 1, 1, 1, 1, 2, 1, 1, 1, 0, 1, 1, 1, 1, 2, 1, 2, 1, 1, 1, 1,\n",
       "        1, 1, 1, 1, 1, 2, 1, 1, 2, 1, 1, 1, 1, 1, 2, 0, 1, 2, 2, 1, 0, 1,\n",
       "        1, 1, 1, 0, 0, 0, 1, 1, 0, 2, 2, 1, 0, 1, 1, 1, 1, 0, 1, 1, 1, 1,\n",
       "        1, 0, 1, 0, 1, 2, 1, 2, 0, 0, 1, 0, 0, 1, 1, 1, 2, 1, 1, 1, 1, 1,\n",
       "        1, 1, 2, 1, 0, 1, 0, 1, 0, 1, 1, 1, 0, 1, 2, 2, 0, 1, 1, 0, 1, 1,\n",
       "        1, 1, 1, 1, 1, 1, 0, 2, 0, 1, 0, 1, 2, 1, 0, 1, 0, 1, 1, 1, 1, 0,\n",
       "        1, 1, 1, 1, 1, 2, 2, 1, 2, 0, 0, 1, 1, 1, 1, 1, 1, 2, 2, 2, 1, 1,\n",
       "        1, 2, 1, 1, 1, 0, 1, 1, 0, 1, 1, 1, 2, 0, 2, 1, 2, 1, 1, 1, 1, 0,\n",
       "        1, 1, 1, 1, 1, 1, 1, 1, 1, 1, 1, 0, 1, 2, 1, 2, 2, 1, 0, 2, 2, 2,\n",
       "        1, 1, 2, 0, 1, 1, 1, 1, 0, 2, 1, 1, 1, 1, 1, 1, 1, 0, 2, 1, 1, 1,\n",
       "        1, 1, 2, 1, 0, 2, 1, 0, 1, 1, 1, 1, 1, 1, 1, 0, 1, 1, 1, 2, 1, 1,\n",
       "        0, 1, 1, 1, 0, 1, 1, 2, 1, 1, 1, 1, 0, 1, 1, 1, 1, 0, 2, 1, 1, 1,\n",
       "        1, 2, 1, 0, 1, 2, 1, 2, 0, 2, 2, 2, 1, 1, 2, 0, 0, 2, 1, 1, 1, 1,\n",
       "        2, 0, 0, 1, 1, 1, 0, 1, 1, 0, 1, 1, 1, 0, 1, 0, 1, 1, 1, 2, 1, 1,\n",
       "        1, 2, 1, 1, 1, 1, 1, 2, 1, 0, 1, 1, 1, 1, 1, 1, 2, 2, 0, 1, 0, 0,\n",
       "        2, 1, 1, 2, 1, 1, 1, 0, 1, 1, 1, 1, 1, 2, 2, 2], dtype=int64),\n",
       " 1402    2\n",
       " 7       2\n",
       " 1194    0\n",
       " 166     1\n",
       " 1549    1\n",
       " 1233    2\n",
       " 1415    0\n",
       " 1300    1\n",
       " 72      0\n",
       " 688     2\n",
       " 538     2\n",
       " 1476    0\n",
       " 26      0\n",
       " 76      2\n",
       " 1150    1\n",
       " 218     0\n",
       " 352     1\n",
       " 783     2\n",
       " 1496    0\n",
       " 1080    1\n",
       " 542     1\n",
       " 1350    1\n",
       " 1330    0\n",
       " 267     0\n",
       " 1410    0\n",
       " 210     1\n",
       " 469     1\n",
       " 639     1\n",
       " 1285    1\n",
       " 666     1\n",
       "        ..\n",
       " 1254    1\n",
       " 1474    0\n",
       " 1573    1\n",
       " 1554    1\n",
       " 1177    1\n",
       " 314     1\n",
       " 145     1\n",
       " 1275    0\n",
       " 1363    1\n",
       " 927     1\n",
       " 473     0\n",
       " 1155    2\n",
       " 659     1\n",
       " 713     1\n",
       " 751     0\n",
       " 1218    0\n",
       " 269     1\n",
       " 554     2\n",
       " 87      1\n",
       " 508     1\n",
       " 1293    1\n",
       " 1014    1\n",
       " 355     1\n",
       " 1390    1\n",
       " 222     1\n",
       " 842     1\n",
       " 1360    2\n",
       " 689     2\n",
       " 1086    0\n",
       " 1457    2\n",
       " Name: Salary_avg_cat, Length: 368, dtype: int64)"
      ]
     },
     "execution_count": 34,
     "metadata": {},
     "output_type": "execute_result"
    }
   ],
   "source": [
    "y_pred, y_test"
   ]
  },
  {
   "cell_type": "markdown",
   "metadata": {},
   "source": [
    "## Confusion Matrix and Score"
   ]
  },
  {
   "cell_type": "code",
   "execution_count": 35,
   "metadata": {},
   "outputs": [
    {
     "name": "stdout",
     "output_type": "stream",
     "text": [
      "   predicted_0  predicted_1  predicted_2\n",
      "0           46           46            6\n",
      "1           15          150           22\n",
      "2            3           44           36\n",
      "             precision    recall  f1-score   support\n",
      "\n",
      "          0       0.72      0.47      0.57        98\n",
      "          1       0.62      0.80      0.70       187\n",
      "          2       0.56      0.43      0.49        83\n",
      "\n",
      "avg / total       0.64      0.63      0.62       368\n",
      "\n"
     ]
    }
   ],
   "source": [
    "from sklearn.metrics import confusion_matrix\n",
    "conmat = np.array(confusion_matrix(y_test, y_pred, labels=[0,1,2]))\n",
    "\n",
    "confusion = pd.DataFrame(conmat, index=[0,1,2],\n",
    "                         columns=['predicted_0','predicted_1','predicted_2'])\n",
    "print confusion\n",
    "#precision, recall and f1\n",
    "from sklearn.metrics import classification_report\n",
    "print classification_report(y_test, y_pred)\n"
   ]
  }
 ],
 "metadata": {
  "kernelspec": {
   "display_name": "Python 2",
   "language": "python",
   "name": "python2"
  },
  "language_info": {
   "codemirror_mode": {
    "name": "ipython",
    "version": 2
   },
   "file_extension": ".py",
   "mimetype": "text/x-python",
   "name": "python",
   "nbconvert_exporter": "python",
   "pygments_lexer": "ipython2",
   "version": "2.7.14"
  }
 },
 "nbformat": 4,
 "nbformat_minor": 2
}
